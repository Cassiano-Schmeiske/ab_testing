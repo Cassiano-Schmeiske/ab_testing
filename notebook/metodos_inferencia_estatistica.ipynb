{
 "cells": [
  {
   "cell_type": "markdown",
   "id": "06a123b3",
   "metadata": {},
   "source": [
    "# Imports"
   ]
  },
  {
   "cell_type": "code",
   "execution_count": 8,
   "id": "a1f3ef47",
   "metadata": {
    "ExecuteTime": {
     "end_time": "2022-08-25T12:28:15.740075Z",
     "start_time": "2022-08-25T12:28:15.737714Z"
    }
   },
   "outputs": [],
   "source": [
    "import numpy as np\n",
    "\n",
    "import scipy.stats as stats\n",
    "\n",
    "from statsmodels.stats.proportion import proportions_ztest"
   ]
  },
  {
   "cell_type": "markdown",
   "id": "62f548d5",
   "metadata": {},
   "source": [
    "# Exercício 01 - Ads Clicks Through Rate"
   ]
  },
  {
   "cell_type": "markdown",
   "id": "3cc5d5b2",
   "metadata": {},
   "source": [
    " **Dois anúncios.**\n",
    "\n",
    "- **Anúncio 1:** tem 1000 impressões e 20 cliques.\n",
    "- **Anúncio 2:** tem 900  impressões e 30 cliques.\n",
    "\n",
    "Teste se há diferença entre o CTR do Anúncio 1 & 2"
   ]
  },
  {
   "cell_type": "code",
   "execution_count": 2,
   "id": "e5adff79",
   "metadata": {
    "ExecuteTime": {
     "end_time": "2022-08-25T11:55:59.489874Z",
     "start_time": "2022-08-25T11:55:59.487460Z"
    }
   },
   "outputs": [],
   "source": [
    "built_success_A, built_sample_A = 20, 1000\n",
    "built_success_B, built_sample_B = 30, 900"
   ]
  },
  {
   "cell_type": "code",
   "execution_count": 3,
   "id": "77707adc",
   "metadata": {
    "ExecuteTime": {
     "end_time": "2022-08-25T11:56:41.267078Z",
     "start_time": "2022-08-25T11:56:41.264619Z"
    }
   },
   "outputs": [],
   "source": [
    "success = np.array( [built_success_A, built_success_B])\n",
    "sample = np.array( [built_sample_A, built_sample_B])"
   ]
  },
  {
   "cell_type": "code",
   "execution_count": 6,
   "id": "08d06fbe",
   "metadata": {
    "ExecuteTime": {
     "end_time": "2022-08-25T11:59:15.957017Z",
     "start_time": "2022-08-25T11:59:15.950355Z"
    }
   },
   "outputs": [
    {
     "name": "stdout",
     "output_type": "stream",
     "text": [
      "P-value: 0.06985234871449321\n"
     ]
    }
   ],
   "source": [
    "zscore, pvalue = proportions_ztest( count=success, nobs=sample, alternative='two-sided' )\n",
    "print( f'P-value: {pvalue}' )"
   ]
  },
  {
   "cell_type": "code",
   "execution_count": 7,
   "id": "02fd365b",
   "metadata": {
    "ExecuteTime": {
     "end_time": "2022-08-25T12:02:17.015358Z",
     "start_time": "2022-08-25T12:02:17.009872Z"
    }
   },
   "outputs": [
    {
     "name": "stdout",
     "output_type": "stream",
     "text": [
      "Falha em Rejeitar a hipótese nula\n",
      "Conclusão: Não Há evidência suficiente de que p CTR do anúncio 1 não é igual ao anúncio 2\n"
     ]
    }
   ],
   "source": [
    "if pvalue < 0.05:\n",
    "    print( 'Rejeita a hipótese nula' )\n",
    "    print( 'Conclusão: Há evidência suficiente de que p CTR do anúncio 1 não é igual ao anúncio 2')\n",
    "else:\n",
    "    print( 'Falha em Rejeitar a hipótese nula' )\n",
    "    print( 'Conclusão: Não Há evidência suficiente de que p CTR do anúncio 1 não é igual ao anúncio 2')"
   ]
  },
  {
   "cell_type": "markdown",
   "id": "94916c09",
   "metadata": {},
   "source": [
    "# Exercício 02 - Acme Toy Company"
   ]
  },
  {
   "cell_type": "markdown",
   "id": "8eca6ed0",
   "metadata": {},
   "source": [
    "A empresa Acme Toy imprime cartas de baseball. A empresa afirma que 30% das cartas são de novatos, 60% são de veteranos e 10% são de All-Star\n",
    "\n",
    "Uma amostra aleatória de 100 cartas tem 50 cartas de novatos, 45 de veteranos e 5 All-Star.\n",
    "\n",
    "S distribuição das cartas é consistente com a afirmação da empresa? Use um nível de significância de 0.05\n",
    "\n",
    "H0: A proporção de novatos, veteranos e All-Star é de 30%, 60% e 10%, respectivamente.\n",
    "H1: Pelo menos uma das proporções da hipótese anterior é falsa."
   ]
  },
  {
   "cell_type": "code",
   "execution_count": 11,
   "id": "8bbccac2",
   "metadata": {
    "ExecuteTime": {
     "end_time": "2022-08-25T12:29:19.133929Z",
     "start_time": "2022-08-25T12:29:19.129151Z"
    }
   },
   "outputs": [],
   "source": [
    "observed = [50, 45, 5]\n",
    "expected = [30, 60, 10]"
   ]
  },
  {
   "cell_type": "code",
   "execution_count": 14,
   "id": "9d669da8",
   "metadata": {
    "ExecuteTime": {
     "end_time": "2022-08-25T12:30:06.446177Z",
     "start_time": "2022-08-25T12:30:06.441576Z"
    }
   },
   "outputs": [
    {
     "name": "stdout",
     "output_type": "stream",
     "text": [
      "P-Value: 5.5915626856371765e-05\n"
     ]
    }
   ],
   "source": [
    "chiscore, pvalue = stats.chisquare( f_obs=observed, f_exp=expected )\n",
    "print( f'P-Value: {pvalue}')"
   ]
  },
  {
   "cell_type": "code",
   "execution_count": 15,
   "id": "665152da",
   "metadata": {
    "ExecuteTime": {
     "end_time": "2022-08-25T12:31:43.632444Z",
     "start_time": "2022-08-25T12:31:43.627730Z"
    }
   },
   "outputs": [
    {
     "name": "stdout",
     "output_type": "stream",
     "text": [
      "Rejeita a hipótese nula\n",
      "Conclusão: Há evidência suficiente de que pelo menos uma das proporções da hipótese nula é falsa\n"
     ]
    }
   ],
   "source": [
    "if pvalue < 0.05:\n",
    "    print( 'Rejeita a hipótese nula' )\n",
    "    print( 'Conclusão: Há evidência suficiente de que pelo menos uma das proporções da hipótese nula é falsa')\n",
    "else:\n",
    "    print( 'Falha em Rejeitar a hipótese nula' )\n",
    "    print( 'Conclusão: Não Há evidência suficiente de que pelo menos uma das proporções da hipótese nula é falsa')"
   ]
  },
  {
   "cell_type": "markdown",
   "id": "29d860fe",
   "metadata": {},
   "source": [
    "# Exercício 03"
   ]
  },
  {
   "cell_type": "code",
   "execution_count": null,
   "id": "8ad35612",
   "metadata": {},
   "outputs": [],
   "source": []
  },
  {
   "cell_type": "code",
   "execution_count": null,
   "id": "c6685309",
   "metadata": {},
   "outputs": [],
   "source": []
  },
  {
   "cell_type": "code",
   "execution_count": null,
   "id": "12fa479e",
   "metadata": {},
   "outputs": [],
   "source": []
  },
  {
   "cell_type": "code",
   "execution_count": null,
   "id": "4fd37fea",
   "metadata": {},
   "outputs": [],
   "source": []
  },
  {
   "cell_type": "markdown",
   "id": "ca5d8171",
   "metadata": {},
   "source": [
    "# Exercício 04"
   ]
  },
  {
   "cell_type": "markdown",
   "id": "052dd57e",
   "metadata": {},
   "source": [
    "# Exercício 05"
   ]
  },
  {
   "cell_type": "markdown",
   "id": "5c5b71da",
   "metadata": {},
   "source": [
    "# Exercício 06"
   ]
  },
  {
   "cell_type": "markdown",
   "id": "ee12d7a4",
   "metadata": {},
   "source": [
    "# Exercício 07"
   ]
  },
  {
   "cell_type": "markdown",
   "id": "a3f19f80",
   "metadata": {},
   "source": [
    "# Exercício 08"
   ]
  },
  {
   "cell_type": "code",
   "execution_count": null,
   "id": "23f35557",
   "metadata": {},
   "outputs": [],
   "source": [
    "1. Variancia: A variancia  das amostras precisam ser iguais\n",
    "    1. Boxplot\n",
    "    2. Test\n",
    "    \n",
    "2. Normalidade: A população  origem das amostras precisa ser normalmente distribuida\n",
    "    1. Distribuição\n",
    "    2. Q-Q plot\n",
    "    3. Shapiro-Wilk\n",
    "    \n",
    "3. Independencia entre as amostras:\n",
    "    1. Processo de escolha das amostras foi aleatório."
   ]
  },
  {
   "cell_type": "code",
   "execution_count": null,
   "id": "62176468",
   "metadata": {},
   "outputs": [],
   "source": []
  },
  {
   "cell_type": "code",
   "execution_count": null,
   "id": "2b697d79",
   "metadata": {},
   "outputs": [],
   "source": []
  },
  {
   "cell_type": "code",
   "execution_count": null,
   "id": "9e562be2",
   "metadata": {},
   "outputs": [],
   "source": []
  },
  {
   "cell_type": "code",
   "execution_count": null,
   "id": "7a997800",
   "metadata": {},
   "outputs": [],
   "source": []
  }
 ],
 "metadata": {
  "kernelspec": {
   "display_name": "Python 3 (ipykernel)",
   "language": "python",
   "name": "python3"
  },
  "language_info": {
   "codemirror_mode": {
    "name": "ipython",
    "version": 3
   },
   "file_extension": ".py",
   "mimetype": "text/x-python",
   "name": "python",
   "nbconvert_exporter": "python",
   "pygments_lexer": "ipython3",
   "version": "3.9.12"
  }
 },
 "nbformat": 4,
 "nbformat_minor": 5
}
