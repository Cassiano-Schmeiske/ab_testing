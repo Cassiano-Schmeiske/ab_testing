{
 "cells": [
  {
   "cell_type": "markdown",
   "id": "6e742b60",
   "metadata": {},
   "source": [
    "# A/B Testing - PA Bond"
   ]
  },
  {
   "cell_type": "markdown",
   "id": "064564f9",
   "metadata": {},
   "source": [
    "# 0.0. Planejamento"
   ]
  },
  {
   "cell_type": "markdown",
   "id": "a11d8277",
   "metadata": {},
   "source": [
    "##  Electronic House \n",
    "é um e-commerce de produtos de informática para casas e escritórios. Os clientes podem comprar mouses, monitores, teclados, computadores, laptops, cabos HDMI, fones de ouvido, cameras webcam, entre outros, através de um site online e recebem os produtos no conforto de suas casas.\n",
    "O time de UX designers vem trabalhando em uma nova página de vendas, com o objetivo de aumentar a taxa de conversão de um produto da loja, um teclado bluetooth. O product manager (gerente de produto) disse que a taxa de conversão\n",
    "da página atual é de 13% em média, no último ano. O objetivo do product manager é aumentar a taxa de conversão em 2%, ou seja, a nova página de vendas, desenvolvida pelo time de UX, seria um sucesso se a sua taxa de conversão fosse de 15%. O teclado bluetooth possui um preço de venda de R$ 4.500,00 à vista ou parcelado em 12% sem juros no cartão de crédito. Antes de trocar a página de vendas antiga pela nova, o product manager gostaria de testar a efetividade da nova página em um grupo menor de clientes, a fim de correr menos riscos de queda da conversão, caso a página nova mostre uma conversão pior do que a página atual."
   ]
  },
  {
   "cell_type": "markdown",
   "id": "bb2ac4e0",
   "metadata": {},
   "source": [
    "## Desafio"
   ]
  },
  {
   "cell_type": "markdown",
   "id": "82e7cbb1",
   "metadata": {},
   "source": [
    "Você foi contratado como um freelancer pela Electronic House para ajudar o time de\n",
    "Designers da nova página, a validar a sua efetividade de uma maneira mais segura,\n",
    "com mais confiança e rigidez na análise.\n",
    "Os entregáveis do seu trabalho são os seguintes:\n",
    "1. A conversão da nova página é realmente melhor do a conversão da página\n",
    "atual?\n",
    "2. Qual o potencial de número de vendas que a nova página pode trazer?\n",
    "3. Qual o faturamento total na venda do teclado bluetooth através da nova página?"
   ]
  },
  {
   "cell_type": "markdown",
   "id": "2434150e",
   "metadata": {},
   "source": [
    "## 0.1. Imports"
   ]
  },
  {
   "cell_type": "code",
   "execution_count": 130,
   "id": "f441e0c9",
   "metadata": {
    "ExecuteTime": {
     "end_time": "2022-08-05T01:56:54.374026Z",
     "start_time": "2022-08-05T01:56:54.365625Z"
    }
   },
   "outputs": [],
   "source": [
    "import pandas as pd\n",
    "import numpy as np\n",
    "import pingouin as pg\n",
    "\n",
    "from scipy import stats\n",
    "\n",
    "from matplotlib import pyplot as plt\n",
    "from statsmodels.stats import api as sms"
   ]
  },
  {
   "cell_type": "markdown",
   "id": "4d9c9a02",
   "metadata": {
    "ExecuteTime": {
     "end_time": "2022-08-03T01:07:05.839563Z",
     "start_time": "2022-08-03T01:07:05.828998Z"
    }
   },
   "source": [
    "## 0.2. Function"
   ]
  },
  {
   "cell_type": "code",
   "execution_count": 107,
   "id": "b6694b37",
   "metadata": {
    "ExecuteTime": {
     "end_time": "2022-08-05T01:51:41.032049Z",
     "start_time": "2022-08-05T01:51:41.029164Z"
    }
   },
   "outputs": [],
   "source": [
    "def data_filter( dataframe, country=False, Country=\"\"):\n",
    "    if country:\n",
    "        dataframe = dataframe[dataframe[\"country\"] == Country]\n",
    "    return dataframe"
   ]
  },
  {
   "cell_type": "markdown",
   "id": "f975f80c",
   "metadata": {},
   "source": [
    "# 1.0. Design do Experimento "
   ]
  },
  {
   "cell_type": "code",
   "execution_count": 108,
   "id": "4a20e8af",
   "metadata": {
    "ExecuteTime": {
     "end_time": "2022-08-05T01:51:41.300365Z",
     "start_time": "2022-08-05T01:51:41.298506Z"
    }
   },
   "outputs": [],
   "source": [
    "# Objetivo: Definir se preenchimento automático da página de checkout é melhor do que o preenchimento manual.\n",
    "# Métrica: GMV ( Gross Margin Revenue ) médio\n",
    "\n",
    "# Group A = Preenchimento automático\n",
    "# Group B = Preenchimento manual"
   ]
  },
  {
   "cell_type": "markdown",
   "id": "3f0a14fa",
   "metadata": {},
   "source": [
    "## 1.1. Hipótese do Experimento"
   ]
  },
  {
   "cell_type": "code",
   "execution_count": 109,
   "id": "ff899257",
   "metadata": {
    "ExecuteTime": {
     "end_time": "2022-08-05T01:51:41.604947Z",
     "start_time": "2022-08-05T01:51:41.602440Z"
    }
   },
   "outputs": [
    {
     "ename": "SyntaxError",
     "evalue": "invalid syntax (1580725675.py, line 1)",
     "output_type": "error",
     "traceback": [
      "\u001b[0;36m  Input \u001b[0;32mIn [109]\u001b[0;36m\u001b[0m\n\u001b[0;31m    H0: avg GMV A  =  avg GMV B\u001b[0m\n\u001b[0m            ^\u001b[0m\n\u001b[0;31mSyntaxError\u001b[0m\u001b[0;31m:\u001b[0m invalid syntax\n"
     ]
    }
   ],
   "source": [
    "H0: avg GMV A  =  avg GMV B\n",
    "H1: avg GMV A < > avg GMV B"
   ]
  },
  {
   "cell_type": "markdown",
   "id": "90c738fc",
   "metadata": {},
   "source": [
    "## 1.2. Definindo o Tamanho da Amostra"
   ]
  },
  {
   "cell_type": "code",
   "execution_count": 110,
   "id": "d19c83a4",
   "metadata": {
    "ExecuteTime": {
     "end_time": "2022-08-05T01:51:41.916449Z",
     "start_time": "2022-08-05T01:51:41.908313Z"
    }
   },
   "outputs": [
    {
     "name": "stdout",
     "output_type": "stream",
     "text": [
      "3395\n"
     ]
    }
   ],
   "source": [
    "#p1 = 0.75\n",
    "#p2 = 0.80\n",
    "\n",
    "# init_metric = metric atual ( media do GMV, media Sales )\n",
    "# end_metric = metric lift ( 5% sobre a metric actual )\n",
    "\n",
    "init_metric = 1902.86\n",
    "end_metric  = init_metric + ( init_metric * 0.05 )\n",
    "std_metric = 1398.88\n",
    "\n",
    "effect_size = ( end_metric - init_metric ) / std_metric\n",
    "\n",
    "sample_size =  sms.tt_ind_solve_power( \n",
    "    effect_size=effect_size,\n",
    "    alpha=0.05,\n",
    "    power=0.80\n",
    ")\n",
    "\n",
    "sample_size =  np.ceil( sample_size ).astype( int )\n",
    "print(  sample_size  )"
   ]
  },
  {
   "cell_type": "markdown",
   "id": "9f3650e0",
   "metadata": {},
   "source": [
    "# 2.0. Preparação dos dados "
   ]
  },
  {
   "cell_type": "markdown",
   "id": "e5e10c4f",
   "metadata": {},
   "source": [
    "## 2.1. Loading Data"
   ]
  },
  {
   "cell_type": "code",
   "execution_count": 111,
   "id": "0a13aabc",
   "metadata": {
    "ExecuteTime": {
     "end_time": "2022-08-05T01:51:42.526351Z",
     "start_time": "2022-08-05T01:51:42.482802Z"
    }
   },
   "outputs": [],
   "source": [
    "df = pd.read_csv( 'datasets/ab_testing.csv' )"
   ]
  },
  {
   "cell_type": "code",
   "execution_count": 112,
   "id": "1912f3e5",
   "metadata": {
    "ExecuteTime": {
     "end_time": "2022-08-05T01:51:42.670863Z",
     "start_time": "2022-08-05T01:51:42.659771Z"
    }
   },
   "outputs": [
    {
     "data": {
      "text/html": [
       "<div>\n",
       "<style scoped>\n",
       "    .dataframe tbody tr th:only-of-type {\n",
       "        vertical-align: middle;\n",
       "    }\n",
       "\n",
       "    .dataframe tbody tr th {\n",
       "        vertical-align: top;\n",
       "    }\n",
       "\n",
       "    .dataframe thead th {\n",
       "        text-align: right;\n",
       "    }\n",
       "</style>\n",
       "<table border=\"1\" class=\"dataframe\">\n",
       "  <thead>\n",
       "    <tr style=\"text-align: right;\">\n",
       "      <th></th>\n",
       "      <th>uid</th>\n",
       "      <th>country</th>\n",
       "      <th>gender</th>\n",
       "      <th>spent</th>\n",
       "      <th>purchases</th>\n",
       "      <th>date</th>\n",
       "      <th>group</th>\n",
       "      <th>device</th>\n",
       "    </tr>\n",
       "  </thead>\n",
       "  <tbody>\n",
       "    <tr>\n",
       "      <th>12</th>\n",
       "      <td>11143138</td>\n",
       "      <td>BRA</td>\n",
       "      <td>M</td>\n",
       "      <td>2592</td>\n",
       "      <td>8</td>\n",
       "      <td>2015-05-20</td>\n",
       "      <td>GRP B</td>\n",
       "      <td>A</td>\n",
       "    </tr>\n",
       "    <tr>\n",
       "      <th>15</th>\n",
       "      <td>11148343</td>\n",
       "      <td>BRA</td>\n",
       "      <td>M</td>\n",
       "      <td>299</td>\n",
       "      <td>1</td>\n",
       "      <td>2016-09-04</td>\n",
       "      <td>GRP B</td>\n",
       "      <td>A</td>\n",
       "    </tr>\n",
       "    <tr>\n",
       "      <th>31</th>\n",
       "      <td>11172970</td>\n",
       "      <td>BRA</td>\n",
       "      <td>M</td>\n",
       "      <td>1797</td>\n",
       "      <td>3</td>\n",
       "      <td>2017-07-05</td>\n",
       "      <td>GRP B</td>\n",
       "      <td>I</td>\n",
       "    </tr>\n",
       "    <tr>\n",
       "      <th>36</th>\n",
       "      <td>11177332</td>\n",
       "      <td>BRA</td>\n",
       "      <td>M</td>\n",
       "      <td>1994</td>\n",
       "      <td>6</td>\n",
       "      <td>2017-01-06</td>\n",
       "      <td>GRP B</td>\n",
       "      <td>I</td>\n",
       "    </tr>\n",
       "    <tr>\n",
       "      <th>37</th>\n",
       "      <td>11179295</td>\n",
       "      <td>BRA</td>\n",
       "      <td>M</td>\n",
       "      <td>1198</td>\n",
       "      <td>2</td>\n",
       "      <td>2017-12-19</td>\n",
       "      <td>GRP B</td>\n",
       "      <td>A</td>\n",
       "    </tr>\n",
       "  </tbody>\n",
       "</table>\n",
       "</div>"
      ],
      "text/plain": [
       "         uid country gender  spent  purchases        date  group device\n",
       "12  11143138     BRA      M   2592          8  2015-05-20  GRP B      A\n",
       "15  11148343     BRA      M    299          1  2016-09-04  GRP B      A\n",
       "31  11172970     BRA      M   1797          3  2017-07-05  GRP B      I\n",
       "36  11177332     BRA      M   1994          6  2017-01-06  GRP B      I\n",
       "37  11179295     BRA      M   1198          2  2017-12-19  GRP B      A"
      ]
     },
     "execution_count": 112,
     "metadata": {},
     "output_type": "execute_result"
    }
   ],
   "source": [
    "# Filter Country\n",
    "df2 = data_filter( df, True, 'BRA' )\n",
    "df2.head()"
   ]
  },
  {
   "cell_type": "markdown",
   "id": "7d7b66ab",
   "metadata": {
    "ExecuteTime": {
     "end_time": "2022-08-03T01:22:41.527348Z",
     "start_time": "2022-08-03T01:22:41.519086Z"
    }
   },
   "source": [
    "## 2.2. Descriptive Statistics"
   ]
  },
  {
   "cell_type": "code",
   "execution_count": 113,
   "id": "83c942f0",
   "metadata": {
    "ExecuteTime": {
     "end_time": "2022-08-05T01:51:43.045968Z",
     "start_time": "2022-08-05T01:51:43.043033Z"
    }
   },
   "outputs": [
    {
     "name": "stdout",
     "output_type": "stream",
     "text": [
      "Number of Rows: 9009\n",
      "Number of Cols: 8\n"
     ]
    }
   ],
   "source": [
    "print( f'Number of Rows: {df2.shape[0]}' )\n",
    "print( f'Number of Cols: {df2.shape[1]}' )"
   ]
  },
  {
   "cell_type": "code",
   "execution_count": 114,
   "id": "9784bcac",
   "metadata": {
    "ExecuteTime": {
     "end_time": "2022-08-05T01:51:43.211034Z",
     "start_time": "2022-08-05T01:51:43.198252Z"
    }
   },
   "outputs": [
    {
     "data": {
      "text/html": [
       "<div>\n",
       "<style scoped>\n",
       "    .dataframe tbody tr th:only-of-type {\n",
       "        vertical-align: middle;\n",
       "    }\n",
       "\n",
       "    .dataframe tbody tr th {\n",
       "        vertical-align: top;\n",
       "    }\n",
       "\n",
       "    .dataframe thead th {\n",
       "        text-align: right;\n",
       "    }\n",
       "</style>\n",
       "<table border=\"1\" class=\"dataframe\">\n",
       "  <thead>\n",
       "    <tr style=\"text-align: right;\">\n",
       "      <th></th>\n",
       "      <th>group</th>\n",
       "      <th>uid</th>\n",
       "    </tr>\n",
       "  </thead>\n",
       "  <tbody>\n",
       "    <tr>\n",
       "      <th>0</th>\n",
       "      <td>GRP A</td>\n",
       "      <td>4518</td>\n",
       "    </tr>\n",
       "    <tr>\n",
       "      <th>1</th>\n",
       "      <td>GRP B</td>\n",
       "      <td>4491</td>\n",
       "    </tr>\n",
       "  </tbody>\n",
       "</table>\n",
       "</div>"
      ],
      "text/plain": [
       "   group   uid\n",
       "0  GRP A  4518\n",
       "1  GRP B  4491"
      ]
     },
     "execution_count": 114,
     "metadata": {},
     "output_type": "execute_result"
    }
   ],
   "source": [
    "df2[['uid', 'group']].groupby( 'group' ).count().reset_index()"
   ]
  },
  {
   "cell_type": "code",
   "execution_count": 115,
   "id": "a18e89d5",
   "metadata": {
    "ExecuteTime": {
     "end_time": "2022-08-05T01:51:43.354753Z",
     "start_time": "2022-08-05T01:51:43.350213Z"
    }
   },
   "outputs": [
    {
     "data": {
      "text/plain": [
       "mean    1902.860251\n",
       "std     1398.886279\n",
       "Name: spent, dtype: float64"
      ]
     },
     "execution_count": 115,
     "metadata": {},
     "output_type": "execute_result"
    }
   ],
   "source": [
    "df2['spent'].agg( ['mean', 'std'] )"
   ]
  },
  {
   "cell_type": "markdown",
   "id": "c207fbd4",
   "metadata": {},
   "source": [
    "### 2.2.1. Check NA"
   ]
  },
  {
   "cell_type": "code",
   "execution_count": 116,
   "id": "a44d502e",
   "metadata": {
    "ExecuteTime": {
     "end_time": "2022-08-05T01:51:43.683799Z",
     "start_time": "2022-08-05T01:51:43.674473Z"
    }
   },
   "outputs": [
    {
     "data": {
      "text/plain": [
       "uid          0\n",
       "country      0\n",
       "gender       0\n",
       "spent        0\n",
       "purchases    0\n",
       "date         0\n",
       "group        0\n",
       "device       0\n",
       "dtype: int64"
      ]
     },
     "execution_count": 116,
     "metadata": {},
     "output_type": "execute_result"
    }
   ],
   "source": [
    "df2.isna().sum()"
   ]
  },
  {
   "cell_type": "markdown",
   "id": "8e49f394",
   "metadata": {},
   "source": [
    "### 2.2.2. Check Unidade Experimental ( pessoas )"
   ]
  },
  {
   "cell_type": "code",
   "execution_count": 117,
   "id": "8f5193e0",
   "metadata": {
    "ExecuteTime": {
     "end_time": "2022-08-05T01:51:44.060038Z",
     "start_time": "2022-08-05T01:51:44.051601Z"
    }
   },
   "outputs": [
    {
     "data": {
      "text/html": [
       "<div>\n",
       "<style scoped>\n",
       "    .dataframe tbody tr th:only-of-type {\n",
       "        vertical-align: middle;\n",
       "    }\n",
       "\n",
       "    .dataframe tbody tr th {\n",
       "        vertical-align: top;\n",
       "    }\n",
       "\n",
       "    .dataframe thead th {\n",
       "        text-align: right;\n",
       "    }\n",
       "</style>\n",
       "<table border=\"1\" class=\"dataframe\">\n",
       "  <thead>\n",
       "    <tr style=\"text-align: right;\">\n",
       "      <th></th>\n",
       "      <th>uid</th>\n",
       "      <th>group</th>\n",
       "    </tr>\n",
       "  </thead>\n",
       "  <tbody>\n",
       "  </tbody>\n",
       "</table>\n",
       "</div>"
      ],
      "text/plain": [
       "Empty DataFrame\n",
       "Columns: [uid, group]\n",
       "Index: []"
      ]
     },
     "execution_count": 117,
     "metadata": {},
     "output_type": "execute_result"
    }
   ],
   "source": [
    "df2[['uid', 'group']].groupby( 'uid' ).count().reset_index().query( 'group > 1' )"
   ]
  },
  {
   "cell_type": "markdown",
   "id": "ba9095f0",
   "metadata": {},
   "source": [
    "### 2.2.3. Control and Treatment Homogenity"
   ]
  },
  {
   "cell_type": "code",
   "execution_count": 118,
   "id": "8a6cf897",
   "metadata": {
    "ExecuteTime": {
     "end_time": "2022-08-05T01:51:44.477412Z",
     "start_time": "2022-08-05T01:51:44.469956Z"
    },
    "cell_style": "split"
   },
   "outputs": [
    {
     "data": {
      "text/html": [
       "<div>\n",
       "<style scoped>\n",
       "    .dataframe tbody tr th:only-of-type {\n",
       "        vertical-align: middle;\n",
       "    }\n",
       "\n",
       "    .dataframe tbody tr th {\n",
       "        vertical-align: top;\n",
       "    }\n",
       "\n",
       "    .dataframe thead th {\n",
       "        text-align: right;\n",
       "    }\n",
       "</style>\n",
       "<table border=\"1\" class=\"dataframe\">\n",
       "  <thead>\n",
       "    <tr style=\"text-align: right;\">\n",
       "      <th></th>\n",
       "      <th></th>\n",
       "      <th>uid</th>\n",
       "    </tr>\n",
       "    <tr>\n",
       "      <th>group</th>\n",
       "      <th>gender</th>\n",
       "      <th></th>\n",
       "    </tr>\n",
       "  </thead>\n",
       "  <tbody>\n",
       "    <tr>\n",
       "      <th rowspan=\"2\" valign=\"top\">GRP A</th>\n",
       "      <th>F</th>\n",
       "      <td>2213</td>\n",
       "    </tr>\n",
       "    <tr>\n",
       "      <th>M</th>\n",
       "      <td>2305</td>\n",
       "    </tr>\n",
       "    <tr>\n",
       "      <th rowspan=\"2\" valign=\"top\">GRP B</th>\n",
       "      <th>F</th>\n",
       "      <td>2208</td>\n",
       "    </tr>\n",
       "    <tr>\n",
       "      <th>M</th>\n",
       "      <td>2283</td>\n",
       "    </tr>\n",
       "  </tbody>\n",
       "</table>\n",
       "</div>"
      ],
      "text/plain": [
       "               uid\n",
       "group gender      \n",
       "GRP A F       2213\n",
       "      M       2305\n",
       "GRP B F       2208\n",
       "      M       2283"
      ]
     },
     "execution_count": 118,
     "metadata": {},
     "output_type": "execute_result"
    }
   ],
   "source": [
    "df2[['uid', 'group', 'gender']].groupby( ['group', 'gender'] ).count()"
   ]
  },
  {
   "cell_type": "code",
   "execution_count": 119,
   "id": "991cc1a4",
   "metadata": {
    "ExecuteTime": {
     "end_time": "2022-08-05T01:51:44.724068Z",
     "start_time": "2022-08-05T01:51:44.715618Z"
    },
    "cell_style": "split"
   },
   "outputs": [
    {
     "data": {
      "text/html": [
       "<div>\n",
       "<style scoped>\n",
       "    .dataframe tbody tr th:only-of-type {\n",
       "        vertical-align: middle;\n",
       "    }\n",
       "\n",
       "    .dataframe tbody tr th {\n",
       "        vertical-align: top;\n",
       "    }\n",
       "\n",
       "    .dataframe thead th {\n",
       "        text-align: right;\n",
       "    }\n",
       "</style>\n",
       "<table border=\"1\" class=\"dataframe\">\n",
       "  <thead>\n",
       "    <tr style=\"text-align: right;\">\n",
       "      <th></th>\n",
       "      <th></th>\n",
       "      <th>uid</th>\n",
       "    </tr>\n",
       "    <tr>\n",
       "      <th>group</th>\n",
       "      <th>device</th>\n",
       "      <th></th>\n",
       "    </tr>\n",
       "  </thead>\n",
       "  <tbody>\n",
       "    <tr>\n",
       "      <th rowspan=\"2\" valign=\"top\">GRP A</th>\n",
       "      <th>A</th>\n",
       "      <td>2208</td>\n",
       "    </tr>\n",
       "    <tr>\n",
       "      <th>I</th>\n",
       "      <td>2310</td>\n",
       "    </tr>\n",
       "    <tr>\n",
       "      <th rowspan=\"2\" valign=\"top\">GRP B</th>\n",
       "      <th>A</th>\n",
       "      <td>2284</td>\n",
       "    </tr>\n",
       "    <tr>\n",
       "      <th>I</th>\n",
       "      <td>2207</td>\n",
       "    </tr>\n",
       "  </tbody>\n",
       "</table>\n",
       "</div>"
      ],
      "text/plain": [
       "               uid\n",
       "group device      \n",
       "GRP A A       2208\n",
       "      I       2310\n",
       "GRP B A       2284\n",
       "      I       2207"
      ]
     },
     "execution_count": 119,
     "metadata": {},
     "output_type": "execute_result"
    }
   ],
   "source": [
    "df2[['uid', 'group', 'device']].groupby( ['group', 'device'] ).count()"
   ]
  },
  {
   "cell_type": "code",
   "execution_count": 120,
   "id": "20486f77",
   "metadata": {
    "ExecuteTime": {
     "end_time": "2022-08-05T01:51:44.929859Z",
     "start_time": "2022-08-05T01:51:44.915759Z"
    }
   },
   "outputs": [
    {
     "data": {
      "text/html": [
       "<div>\n",
       "<style scoped>\n",
       "    .dataframe tbody tr th:only-of-type {\n",
       "        vertical-align: middle;\n",
       "    }\n",
       "\n",
       "    .dataframe tbody tr th {\n",
       "        vertical-align: top;\n",
       "    }\n",
       "\n",
       "    .dataframe thead tr th {\n",
       "        text-align: left;\n",
       "    }\n",
       "\n",
       "    .dataframe thead tr:last-of-type th {\n",
       "        text-align: right;\n",
       "    }\n",
       "</style>\n",
       "<table border=\"1\" class=\"dataframe\">\n",
       "  <thead>\n",
       "    <tr>\n",
       "      <th></th>\n",
       "      <th>country</th>\n",
       "      <th colspan=\"4\" halign=\"left\">spent</th>\n",
       "      <th colspan=\"4\" halign=\"left\">purchases</th>\n",
       "    </tr>\n",
       "    <tr>\n",
       "      <th></th>\n",
       "      <th>count</th>\n",
       "      <th>min</th>\n",
       "      <th>max</th>\n",
       "      <th>mean</th>\n",
       "      <th>std</th>\n",
       "      <th>min</th>\n",
       "      <th>max</th>\n",
       "      <th>mean</th>\n",
       "      <th>std</th>\n",
       "    </tr>\n",
       "    <tr>\n",
       "      <th>group</th>\n",
       "      <th></th>\n",
       "      <th></th>\n",
       "      <th></th>\n",
       "      <th></th>\n",
       "      <th></th>\n",
       "      <th></th>\n",
       "      <th></th>\n",
       "      <th></th>\n",
       "      <th></th>\n",
       "    </tr>\n",
       "  </thead>\n",
       "  <tbody>\n",
       "    <tr>\n",
       "      <th>GRP A</th>\n",
       "      <td>4518</td>\n",
       "      <td>99</td>\n",
       "      <td>10480</td>\n",
       "      <td>1899.792165</td>\n",
       "      <td>1413.074052</td>\n",
       "      <td>1</td>\n",
       "      <td>24</td>\n",
       "      <td>4.568172</td>\n",
       "      <td>3.170057</td>\n",
       "    </tr>\n",
       "    <tr>\n",
       "      <th>GRP B</th>\n",
       "      <td>4491</td>\n",
       "      <td>99</td>\n",
       "      <td>10478</td>\n",
       "      <td>1905.946782</td>\n",
       "      <td>1384.617019</td>\n",
       "      <td>1</td>\n",
       "      <td>23</td>\n",
       "      <td>4.585393</td>\n",
       "      <td>3.132202</td>\n",
       "    </tr>\n",
       "  </tbody>\n",
       "</table>\n",
       "</div>"
      ],
      "text/plain": [
       "      country spent                                  purchases                \\\n",
       "        count   min    max         mean          std       min max      mean   \n",
       "group                                                                          \n",
       "GRP A    4518    99  10480  1899.792165  1413.074052         1  24  4.568172   \n",
       "GRP B    4491    99  10478  1905.946782  1384.617019         1  23  4.585393   \n",
       "\n",
       "                 \n",
       "            std  \n",
       "group            \n",
       "GRP A  3.170057  \n",
       "GRP B  3.132202  "
      ]
     },
     "execution_count": 120,
     "metadata": {},
     "output_type": "execute_result"
    }
   ],
   "source": [
    "df2.groupby( 'group' ).agg( {'country':   'count',\n",
    "                             'spent':     ['min', 'max', 'mean', 'std'],\n",
    "                             'purchases': ['min', 'max', 'mean', 'std'] } )"
   ]
  },
  {
   "cell_type": "code",
   "execution_count": 121,
   "id": "60acdd60",
   "metadata": {
    "ExecuteTime": {
     "end_time": "2022-08-05T01:51:45.265610Z",
     "start_time": "2022-08-05T01:51:45.140009Z"
    }
   },
   "outputs": [
    {
     "data": {
      "image/png": "[encoded data removed]",
      "text/plain": [
       "<Figure size 432x288 with 1 Axes>"
      ]
     },
     "metadata": {
      "needs_background": "light"
     },
     "output_type": "display_data"
    }
   ],
   "source": [
    "df2.loc[df2['group'] == 'GRP A', 'purchases'].hist( bins=20 );\n",
    "df2.loc[df2['group'] == 'GRP B', 'purchases'].hist( bins=20 );"
   ]
  },
  {
   "cell_type": "markdown",
   "id": "eff9f7b2",
   "metadata": {},
   "source": [
    "# 3.0. Test Hipótese"
   ]
  },
  {
   "cell_type": "markdown",
   "id": "e59e91e6",
   "metadata": {},
   "source": [
    "## 3.1. Groups"
   ]
  },
  {
   "cell_type": "code",
   "execution_count": 129,
   "id": "4e2cc6c2",
   "metadata": {
    "ExecuteTime": {
     "end_time": "2022-08-05T01:55:18.883631Z",
     "start_time": "2022-08-05T01:55:18.876348Z"
    }
   },
   "outputs": [
    {
     "name": "stdout",
     "output_type": "stream",
     "text": [
      "AVG Sample A +/-1908.56, 1406.42\n",
      "AVG Sample B +/-1902.1, 1383.93\n"
     ]
    }
   ],
   "source": [
    "sample_A = df2.loc[df2['group'] == 'GRP A', 'spent'].sample( n=sample_size, random_state=42 )\n",
    "sample_B = df2.loc[df2['group'] == 'GRP B', 'spent'].sample( n=sample_size, random_state=42 )\n",
    "\n",
    "# Metrics \n",
    "print( f'AVG Sample A +/-{ np.round( sample_A.mean(), 2) }, { np.round( sample_A.std(),2 ) }')\n",
    "print( f'AVG Sample B +/-{ np.round( sample_B.mean(), 2) }, { np.round( sample_B.std(),2 ) }')"
   ]
  },
  {
   "cell_type": "markdown",
   "id": "4442c29c",
   "metadata": {},
   "source": [
    "## 3.2. Inferencia Estatística"
   ]
  },
  {
   "cell_type": "code",
   "execution_count": 131,
   "id": "8f90440e",
   "metadata": {
    "ExecuteTime": {
     "end_time": "2022-08-05T01:58:04.095034Z",
     "start_time": "2022-08-05T01:58:04.090459Z"
    }
   },
   "outputs": [
    {
     "name": "stdout",
     "output_type": "stream",
     "text": [
      "p-value 0.8488440918718094\n"
     ]
    }
   ],
   "source": [
    "t_test, p_value = stats.ttest_ind( sample_A, sample_B )\n",
    "print( f'p-value {p_value}')"
   ]
  },
  {
   "cell_type": "markdown",
   "id": "c521bb0f",
   "metadata": {},
   "source": [
    "# 4.0. Conclusão "
   ]
  },
  {
   "cell_type": "code",
   "execution_count": 139,
   "id": "91a37fa9",
   "metadata": {
    "ExecuteTime": {
     "end_time": "2022-08-05T02:18:21.996231Z",
     "start_time": "2022-08-05T02:18:21.984725Z"
    }
   },
   "outputs": [
    {
     "name": "stdout",
     "output_type": "stream",
     "text": [
      "Falied to Reject Null Hypothesis ( Assumir a Hipótese Nula)\n",
      "Não temos evidência suficiente para dizer que o preenchimento automático trouxe uma mudança..\n",
      "Repensar a estratégia do dispositivo de preechimento automático\n"
     ]
    }
   ],
   "source": [
    "significance_level = 0.5\n",
    "if p_value < significance_level:\n",
    "    print( f'Reject Null Hypothesis' )\n",
    "    print( f'O preenchimento automático troxe uma mudança significativa no GMV médio da página' ) \n",
    "    print( f'Booooua - Podemos liberar a página para toda a audiência do site' ) \n",
    "else:    \n",
    "    print( f'Falied to Reject Null Hypothesis ( Assumir a Hipótese Nula)' ) \n",
    "    print( f'Não temos evidência suficiente para dizer que o preenchimento automático trouxe uma mudança..') \n",
    "    print( f'Repensar a estratégia do dispositivo de preechimento automático') \n",
    "    "
   ]
  },
  {
   "cell_type": "code",
   "execution_count": null,
   "id": "383e3f64",
   "metadata": {},
   "outputs": [],
   "source": []
  },
  {
   "cell_type": "code",
   "execution_count": null,
   "id": "73abe850",
   "metadata": {},
   "outputs": [],
   "source": []
  },
  {
   "cell_type": "code",
   "execution_count": 136,
   "id": "a055e43e",
   "metadata": {
    "ExecuteTime": {
     "end_time": "2022-08-05T02:10:58.767119Z",
     "start_time": "2022-08-05T02:10:58.761726Z"
    }
   },
   "outputs": [
    {
     "name": "stdout",
     "output_type": "stream",
     "text": [
      "R$:3090\n"
     ]
    }
   ],
   "source": [
    "# salario + beneficios\n",
    "salario = 2500\n",
    "insalubridade = 480 \n",
    "bonus = 110\n",
    "\n",
    "salario_total = salario + insalubridade + bonus \n",
    "print( f'R$:{salario_total}')"
   ]
  },
  {
   "cell_type": "code",
   "execution_count": 142,
   "id": "1c018543",
   "metadata": {
    "ExecuteTime": {
     "end_time": "2022-08-05T02:21:40.574345Z",
     "start_time": "2022-08-05T02:21:40.567807Z"
    }
   },
   "outputs": [
    {
     "name": "stdout",
     "output_type": "stream",
     "text": [
      "INSS:   -432.6\n",
      "Pensão: -400\n",
      "Salario liquido: 2257.4\n"
     ]
    }
   ],
   "source": [
    "# descontos\n",
    "# De R$ 2.427,36 a R$ 3.614,03 -> 12%\n",
    "# De R$ 3.641,03 a R$ 7.087,22 -> 14%\n",
    "inss = 0.14\n",
    "pensao = 400\n",
    "\n",
    "desconto_inss = salario_total * inss\n",
    "print( f'INSS:   -{ desconto_inss }')\n",
    "print( f'Pensão: -{pensao}')\n",
    "\n",
    "salario_liquido = salario_total - desconto_inss - pensao\n",
    "print( f'Salario liquido: {salario_liquido}')"
   ]
  },
  {
   "cell_type": "code",
   "execution_count": 143,
   "id": "54867907",
   "metadata": {
    "ExecuteTime": {
     "end_time": "2022-08-05T02:21:41.145370Z",
     "start_time": "2022-08-05T02:21:41.141445Z"
    }
   },
   "outputs": [
    {
     "name": "stdout",
     "output_type": "stream",
     "text": [
      "Gastos com comida: -360\n",
      "Gastos agua, luz, internet: -200\n"
     ]
    },
    {
     "data": {
      "text/plain": [
       "1697.4"
      ]
     },
     "execution_count": 143,
     "metadata": {},
     "output_type": "execute_result"
    }
   ],
   "source": [
    "# despesas\n",
    "refeicao = 12 * 30\n",
    "agua_luz_internet = 200\n",
    "print( f'Gastos com comida: -{refeicao}')\n",
    "print( f'Gastos agua, luz, internet: -{agua_luz_internet}')\n",
    "salario_liquido = salario_liquido - refeicao - agua_luz_internet\n",
    "salario_liquido"
   ]
  },
  {
   "cell_type": "code",
   "execution_count": null,
   "id": "b2b842fc",
   "metadata": {},
   "outputs": [],
   "source": []
  },
  {
   "cell_type": "code",
   "execution_count": null,
   "id": "a5e741c8",
   "metadata": {},
   "outputs": [],
   "source": []
  },
  {
   "cell_type": "code",
   "execution_count": null,
   "id": "2805a505",
   "metadata": {},
   "outputs": [],
   "source": []
  }
 ],
 "metadata": {
  "kernelspec": {
   "display_name": "Python 3 (ipykernel)",
   "language": "python",
   "name": "python3"
  },
  "language_info": {
   "codemirror_mode": {
    "name": "ipython",
    "version": 3
   },
   "file_extension": ".py",
   "mimetype": "text/x-python",
   "name": "python",
   "nbconvert_exporter": "python",
   "pygments_lexer": "ipython3",
   "version": "3.9.12"
  }
 },
 "nbformat": 4,
 "nbformat_minor": 5
}
