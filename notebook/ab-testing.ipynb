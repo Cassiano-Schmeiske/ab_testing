{
 "cells": [
  {
   "cell_type": "markdown",
   "id": "68ed2b9d",
   "metadata": {},
   "source": [
    "# AB Testing Course "
   ]
  },
  {
   "cell_type": "markdown",
   "id": "6f20ee32",
   "metadata": {},
   "source": [
    "## 0.1. Imports"
   ]
  },
  {
   "cell_type": "code",
   "execution_count": 1,
   "id": "552074cd",
   "metadata": {
    "ExecuteTime": {
     "end_time": "2022-07-31T12:57:11.416869Z",
     "start_time": "2022-07-31T12:57:10.075731Z"
    }
   },
   "outputs": [],
   "source": [
    "import pandas as pd\n",
    "import numpy as np\n",
    "import seaborn as sns\n",
    "import math\n",
    "from statsmodels.stats import api as sms"
   ]
  },
  {
   "cell_type": "markdown",
   "id": "0c7a28f1",
   "metadata": {},
   "source": [
    "# 1.0. Load Data"
   ]
  },
  {
   "cell_type": "code",
   "execution_count": 2,
   "id": "a257fdad",
   "metadata": {
    "ExecuteTime": {
     "end_time": "2022-07-31T12:57:11.670063Z",
     "start_time": "2022-07-31T12:57:11.418358Z"
    }
   },
   "outputs": [],
   "source": [
    "df_raw = pd.read_csv('data/ab_data.csv')"
   ]
  },
  {
   "cell_type": "code",
   "execution_count": 3,
   "id": "7d99ad9b",
   "metadata": {
    "ExecuteTime": {
     "end_time": "2022-07-31T12:57:11.683721Z",
     "start_time": "2022-07-31T12:57:11.672002Z"
    }
   },
   "outputs": [
    {
     "data": {
      "text/html": [
       "<div>\n",
       "<style scoped>\n",
       "    .dataframe tbody tr th:only-of-type {\n",
       "        vertical-align: middle;\n",
       "    }\n",
       "\n",
       "    .dataframe tbody tr th {\n",
       "        vertical-align: top;\n",
       "    }\n",
       "\n",
       "    .dataframe thead th {\n",
       "        text-align: right;\n",
       "    }\n",
       "</style>\n",
       "<table border=\"1\" class=\"dataframe\">\n",
       "  <thead>\n",
       "    <tr style=\"text-align: right;\">\n",
       "      <th></th>\n",
       "      <th>user_id</th>\n",
       "      <th>timestamp</th>\n",
       "      <th>group</th>\n",
       "      <th>landing_page</th>\n",
       "      <th>converted</th>\n",
       "    </tr>\n",
       "  </thead>\n",
       "  <tbody>\n",
       "    <tr>\n",
       "      <th>0</th>\n",
       "      <td>851104</td>\n",
       "      <td>2017-01-21 22:11:48.556739</td>\n",
       "      <td>control</td>\n",
       "      <td>old_page</td>\n",
       "      <td>0</td>\n",
       "    </tr>\n",
       "    <tr>\n",
       "      <th>1</th>\n",
       "      <td>804228</td>\n",
       "      <td>2017-01-12 08:01:45.159739</td>\n",
       "      <td>control</td>\n",
       "      <td>old_page</td>\n",
       "      <td>0</td>\n",
       "    </tr>\n",
       "    <tr>\n",
       "      <th>2</th>\n",
       "      <td>661590</td>\n",
       "      <td>2017-01-11 16:55:06.154213</td>\n",
       "      <td>treatment</td>\n",
       "      <td>new_page</td>\n",
       "      <td>0</td>\n",
       "    </tr>\n",
       "    <tr>\n",
       "      <th>3</th>\n",
       "      <td>853541</td>\n",
       "      <td>2017-01-08 18:28:03.143765</td>\n",
       "      <td>treatment</td>\n",
       "      <td>new_page</td>\n",
       "      <td>0</td>\n",
       "    </tr>\n",
       "    <tr>\n",
       "      <th>4</th>\n",
       "      <td>864975</td>\n",
       "      <td>2017-01-21 01:52:26.210827</td>\n",
       "      <td>control</td>\n",
       "      <td>old_page</td>\n",
       "      <td>1</td>\n",
       "    </tr>\n",
       "  </tbody>\n",
       "</table>\n",
       "</div>"
      ],
      "text/plain": [
       "   user_id                   timestamp      group landing_page  converted\n",
       "0   851104  2017-01-21 22:11:48.556739    control     old_page          0\n",
       "1   804228  2017-01-12 08:01:45.159739    control     old_page          0\n",
       "2   661590  2017-01-11 16:55:06.154213  treatment     new_page          0\n",
       "3   853541  2017-01-08 18:28:03.143765  treatment     new_page          0\n",
       "4   864975  2017-01-21 01:52:26.210827    control     old_page          1"
      ]
     },
     "execution_count": 3,
     "metadata": {},
     "output_type": "execute_result"
    }
   ],
   "source": [
    "df_raw.head()"
   ]
  },
  {
   "cell_type": "code",
   "execution_count": 5,
   "id": "5aa4fc75",
   "metadata": {
    "ExecuteTime": {
     "end_time": "2022-07-31T12:57:41.600302Z",
     "start_time": "2022-07-31T12:57:41.596659Z"
    }
   },
   "outputs": [
    {
     "data": {
      "text/plain": [
       "(294478, 5)"
      ]
     },
     "execution_count": 5,
     "metadata": {},
     "output_type": "execute_result"
    }
   ],
   "source": [
    "df_raw.shape"
   ]
  },
  {
   "cell_type": "markdown",
   "id": "60891ab9",
   "metadata": {},
   "source": [
    "# 2.0. Design de Experimentos"
   ]
  },
  {
   "cell_type": "markdown",
   "id": "b7145dfd",
   "metadata": {},
   "source": [
    "## 2.1. Formulação das Hipóteses"
   ]
  },
  {
   "cell_type": "code",
   "execution_count": null,
   "id": "da7f16c7",
   "metadata": {},
   "outputs": [],
   "source": [
    "# H0: A conversão da nova página é de 13%\n",
    "# H1: A conversão da nova página é diferente de 13%"
   ]
  },
  {
   "cell_type": "markdown",
   "id": "e4a136dc",
   "metadata": {},
   "source": [
    "## 2.2. Parâmetros do Experimentos"
   ]
  },
  {
   "cell_type": "code",
   "execution_count": 32,
   "id": "4b8b10cb",
   "metadata": {
    "ExecuteTime": {
     "end_time": "2022-07-31T13:04:31.901466Z",
     "start_time": "2022-07-31T13:04:31.882446Z"
    }
   },
   "outputs": [
    {
     "data": {
      "text/plain": [
       "4720"
      ]
     },
     "execution_count": 32,
     "metadata": {},
     "output_type": "execute_result"
    }
   ],
   "source": [
    "# nivel de confiança\n",
    "confidence_level = 0.95\n",
    "\n",
    "# nivel de significancia\n",
    "significance_level = 0.05\n",
    "\n",
    "p1 = 0.13 # ->  conversoes da páginas atual\n",
    "p2 = 0.15 # ->  conversoes da nova página\n",
    "\n",
    "# tamanho do efeito\n",
    "effect_size = sms.proportion_effectsize( p1, p2 )\n",
    "\n",
    "# Poder estatístico\n",
    "power = 0.80\n",
    "\n",
    "# sample size\n",
    "sample_n = sms.NormalIndPower().solve_power(\n",
    "                effect_size,\n",
    "                power=power,\n",
    "                alpha=significance_level\n",
    ")\n",
    "sample_n = math.ceil( sample_n )\n",
    "sample_n"
   ]
  },
  {
   "cell_type": "code",
   "execution_count": 7,
   "id": "dc7fe393",
   "metadata": {
    "ExecuteTime": {
     "end_time": "2022-07-31T12:57:46.438516Z",
     "start_time": "2022-07-31T12:57:46.433854Z"
    }
   },
   "outputs": [
    {
     "name": "stdout",
     "output_type": "stream",
     "text": [
      "O Tamanho total da amostra: 9440\n",
      "O Tamanho da amostra do grupo controle é de: 4720\n",
      "O Tamanho da amostra do grupo tratamento é de: 4720\n"
     ]
    }
   ],
   "source": [
    "print( f'O Tamanho total da amostra: {sample_n * 2}')\n",
    "print( f'O Tamanho da amostra do grupo controle é de: {sample_n}')\n",
    "print( f'O Tamanho da amostra do grupo tratamento é de: {sample_n}')"
   ]
  },
  {
   "cell_type": "markdown",
   "id": "562ea865",
   "metadata": {},
   "source": [
    "# 3.0. Análise descritiva dos dados"
   ]
  },
  {
   "cell_type": "code",
   "execution_count": 8,
   "id": "7556554d",
   "metadata": {
    "ExecuteTime": {
     "end_time": "2022-07-31T12:57:46.785199Z",
     "start_time": "2022-07-31T12:57:46.782373Z"
    }
   },
   "outputs": [
    {
     "name": "stdout",
     "output_type": "stream",
     "text": [
      "Number os rows: 294478\n",
      "Number of columns: 5\n"
     ]
    }
   ],
   "source": [
    "print( f'Number os rows: {df_raw.shape[0]}')\n",
    "print( f'Number of columns: {df_raw.shape[1]}')"
   ]
  },
  {
   "cell_type": "markdown",
   "id": "c3eb41a1",
   "metadata": {},
   "source": [
    "## 3.1. Chack NA"
   ]
  },
  {
   "cell_type": "code",
   "execution_count": 9,
   "id": "0f091455",
   "metadata": {
    "ExecuteTime": {
     "end_time": "2022-07-31T12:57:47.233429Z",
     "start_time": "2022-07-31T12:57:47.143620Z"
    }
   },
   "outputs": [
    {
     "data": {
      "text/plain": [
       "user_id         0\n",
       "timestamp       0\n",
       "group           0\n",
       "landing_page    0\n",
       "converted       0\n",
       "dtype: int64"
      ]
     },
     "execution_count": 9,
     "metadata": {},
     "output_type": "execute_result"
    }
   ],
   "source": [
    "\n",
    "df_raw.isna().sum()"
   ]
  },
  {
   "cell_type": "markdown",
   "id": "f9fd1f56",
   "metadata": {},
   "source": [
    "## 3.2. Conferir as \"flags\" do teste"
   ]
  },
  {
   "cell_type": "code",
   "execution_count": 10,
   "id": "f8088768",
   "metadata": {
    "ExecuteTime": {
     "end_time": "2022-07-31T12:57:47.584081Z",
     "start_time": "2022-07-31T12:57:47.524085Z"
    }
   },
   "outputs": [
    {
     "data": {
      "text/html": [
       "<div>\n",
       "<style scoped>\n",
       "    .dataframe tbody tr th:only-of-type {\n",
       "        vertical-align: middle;\n",
       "    }\n",
       "\n",
       "    .dataframe tbody tr th {\n",
       "        vertical-align: top;\n",
       "    }\n",
       "\n",
       "    .dataframe thead th {\n",
       "        text-align: right;\n",
       "    }\n",
       "</style>\n",
       "<table border=\"1\" class=\"dataframe\">\n",
       "  <thead>\n",
       "    <tr style=\"text-align: right;\">\n",
       "      <th></th>\n",
       "      <th>group</th>\n",
       "      <th>landing_page</th>\n",
       "      <th>user_id</th>\n",
       "    </tr>\n",
       "  </thead>\n",
       "  <tbody>\n",
       "    <tr>\n",
       "      <th>0</th>\n",
       "      <td>control</td>\n",
       "      <td>new_page</td>\n",
       "      <td>1928</td>\n",
       "    </tr>\n",
       "    <tr>\n",
       "      <th>1</th>\n",
       "      <td>control</td>\n",
       "      <td>old_page</td>\n",
       "      <td>145274</td>\n",
       "    </tr>\n",
       "    <tr>\n",
       "      <th>2</th>\n",
       "      <td>treatment</td>\n",
       "      <td>new_page</td>\n",
       "      <td>145311</td>\n",
       "    </tr>\n",
       "    <tr>\n",
       "      <th>3</th>\n",
       "      <td>treatment</td>\n",
       "      <td>old_page</td>\n",
       "      <td>1965</td>\n",
       "    </tr>\n",
       "  </tbody>\n",
       "</table>\n",
       "</div>"
      ],
      "text/plain": [
       "       group landing_page  user_id\n",
       "0    control     new_page     1928\n",
       "1    control     old_page   145274\n",
       "2  treatment     new_page   145311\n",
       "3  treatment     old_page     1965"
      ]
     },
     "execution_count": 10,
     "metadata": {},
     "output_type": "execute_result"
    }
   ],
   "source": [
    "df_raw[['user_id', 'group', 'landing_page']].groupby( ['group', 'landing_page'] ).count().reset_index()"
   ]
  },
  {
   "cell_type": "markdown",
   "id": "abbd7d43",
   "metadata": {},
   "source": [
    "- usuarios duplicados no grupo tratamento e grupo controle"
   ]
  },
  {
   "cell_type": "markdown",
   "id": "78f52fc1",
   "metadata": {},
   "source": [
    "## 3.3. Remover duplicados"
   ]
  },
  {
   "cell_type": "code",
   "execution_count": 11,
   "id": "fc4dfa78",
   "metadata": {
    "ExecuteTime": {
     "end_time": "2022-07-31T12:57:48.176755Z",
     "start_time": "2022-07-31T12:57:48.061917Z"
    }
   },
   "outputs": [],
   "source": [
    "# agrupar duplicados\n",
    "df_user_delete = df_raw[['user_id', 'group']].groupby( 'user_id' ).count().reset_index().query( 'group > 1')['user_id']\n",
    "\n",
    "# dados sem duplicata\n",
    "df1 = df_raw[ ~df_raw['user_id'].isin( df_user_delete )]"
   ]
  },
  {
   "cell_type": "code",
   "execution_count": 12,
   "id": "609ae07a",
   "metadata": {
    "ExecuteTime": {
     "end_time": "2022-07-31T12:57:48.299153Z",
     "start_time": "2022-07-31T12:57:48.247889Z"
    }
   },
   "outputs": [
    {
     "data": {
      "text/html": [
       "<div>\n",
       "<style scoped>\n",
       "    .dataframe tbody tr th:only-of-type {\n",
       "        vertical-align: middle;\n",
       "    }\n",
       "\n",
       "    .dataframe tbody tr th {\n",
       "        vertical-align: top;\n",
       "    }\n",
       "\n",
       "    .dataframe thead th {\n",
       "        text-align: right;\n",
       "    }\n",
       "</style>\n",
       "<table border=\"1\" class=\"dataframe\">\n",
       "  <thead>\n",
       "    <tr style=\"text-align: right;\">\n",
       "      <th></th>\n",
       "      <th>group</th>\n",
       "      <th>landing_page</th>\n",
       "      <th>user_id</th>\n",
       "    </tr>\n",
       "  </thead>\n",
       "  <tbody>\n",
       "    <tr>\n",
       "      <th>0</th>\n",
       "      <td>control</td>\n",
       "      <td>old_page</td>\n",
       "      <td>143293</td>\n",
       "    </tr>\n",
       "    <tr>\n",
       "      <th>1</th>\n",
       "      <td>treatment</td>\n",
       "      <td>new_page</td>\n",
       "      <td>143397</td>\n",
       "    </tr>\n",
       "  </tbody>\n",
       "</table>\n",
       "</div>"
      ],
      "text/plain": [
       "       group landing_page  user_id\n",
       "0    control     old_page   143293\n",
       "1  treatment     new_page   143397"
      ]
     },
     "execution_count": 12,
     "metadata": {},
     "output_type": "execute_result"
    }
   ],
   "source": [
    "df1[['user_id', 'group', 'landing_page']].groupby( ['group', 'landing_page'] ).count().reset_index()"
   ]
  },
  {
   "cell_type": "markdown",
   "id": "e255c4f5",
   "metadata": {},
   "source": [
    "## 3.4. Amostragem aleatória dos grupos Controle e Tratamento"
   ]
  },
  {
   "cell_type": "code",
   "execution_count": 13,
   "id": "c1bdd8ac",
   "metadata": {
    "ExecuteTime": {
     "end_time": "2022-07-31T12:57:48.687363Z",
     "start_time": "2022-07-31T12:57:48.622116Z"
    }
   },
   "outputs": [
    {
     "name": "stdout",
     "output_type": "stream",
     "text": [
      "Size of Control Group: 4720\n",
      "Size of Treatment Group: 4720\n"
     ]
    }
   ],
   "source": [
    "# Controle Group\n",
    "df_control_sample = df1[df1['group'] == 'control'].sample( n=sample_n, random_state=42 )\n",
    "print( f'Size of Control Group: {df_control_sample.shape[0]}')\n",
    "\n",
    "# Tratamento Group\n",
    "df_treatment_sample = df1[df1['group'] == 'treatment'].sample( n=sample_n, random_state=42 )\n",
    "print( f'Size of Treatment Group: {df_treatment_sample.shape[0]}')\n",
    "\n",
    "# Total Sample Size\n",
    "df_ab = pd.concat( [df_control_sample, df_treatment_sample] ).reset_index( drop=True )"
   ]
  },
  {
   "cell_type": "markdown",
   "id": "28cfc011",
   "metadata": {},
   "source": [
    "## 3.5. Calculo da métrica de interesse entre os Grupos ( Conversão de cada página )"
   ]
  },
  {
   "cell_type": "code",
   "execution_count": 14,
   "id": "4082a62a",
   "metadata": {
    "ExecuteTime": {
     "end_time": "2022-07-31T12:57:49.001554Z",
     "start_time": "2022-07-31T12:57:48.990976Z"
    }
   },
   "outputs": [
    {
     "name": "stdout",
     "output_type": "stream",
     "text": [
      "Conversion Rate - Control Group: 0.1155\n",
      "Conversion Rate - Treatment Group: 0.1290\n"
     ]
    }
   ],
   "source": [
    "# ============== Control Group ===============\n",
    "sales = df_control_sample.loc[df_control_sample['converted'] == 1, 'converted'].sum()\n",
    "visit = len( df_control_sample )\n",
    "\n",
    "conversion_rate_control = sales / visit\n",
    "print( f'Conversion Rate - Control Group: {conversion_rate_control:.4f}')\n",
    "\n",
    "# ============== Treatment Group ===============\n",
    "sales = df_treatment_sample.loc[df_treatment_sample['converted'] == 1, 'converted'].sum()\n",
    "visit = len( df_control_sample )\n",
    "\n",
    "conversion_rate_treatment = sales / visit\n",
    "print( f'Conversion Rate - Treatment Group: {conversion_rate_treatment:.4f}')"
   ]
  },
  {
   "cell_type": "markdown",
   "id": "4f5fbe89",
   "metadata": {},
   "source": [
    "# 4.0. Testes Estatísticos"
   ]
  },
  {
   "cell_type": "markdown",
   "id": "2a2410fb",
   "metadata": {},
   "source": [
    "## 4.1. One-sample Teste"
   ]
  },
  {
   "cell_type": "code",
   "execution_count": 15,
   "id": "74164872",
   "metadata": {
    "ExecuteTime": {
     "end_time": "2022-07-31T12:57:49.545645Z",
     "start_time": "2022-07-31T12:57:49.539224Z"
    }
   },
   "outputs": [],
   "source": [
    "import numpy as np\n",
    "\n",
    "from scipy.stats import ttest_1samp"
   ]
  },
  {
   "cell_type": "code",
   "execution_count": 16,
   "id": "552b618a",
   "metadata": {
    "ExecuteTime": {
     "end_time": "2022-07-31T12:57:49.721268Z",
     "start_time": "2022-07-31T12:57:49.718685Z"
    }
   },
   "outputs": [],
   "source": [
    "df = [ 14, 14, 16, 13, 12, 17, 15, 14, 15, 13, 15, 14 ]\n",
    "\n",
    "# H0: u  = 15  ( A altura média das espécies das plantas, de fato, é 15 cm )\n",
    "# h1: u <> 15 ( A altura média das espécies das plantas é diferente de 15 cm )"
   ]
  },
  {
   "cell_type": "code",
   "execution_count": 17,
   "id": "e44e1292",
   "metadata": {
    "ExecuteTime": {
     "end_time": "2022-07-31T12:57:49.872883Z",
     "start_time": "2022-07-31T12:57:49.869811Z"
    }
   },
   "outputs": [
    {
     "name": "stdout",
     "output_type": "stream",
     "text": [
      "p-value: 0.12014460742498101\n",
      "Rejeita a hipótese nula\n"
     ]
    }
   ],
   "source": [
    "statstic, pvalue = ttest_1samp( df, popmean=15 )\n",
    "print( f'p-value: {pvalue}')\n",
    "\n",
    "alpha = 0.5\n",
    "if pvalue < alpha:\n",
    "    print( f'Rejeita a hipótese nula' )\n",
    "else:\n",
    "    print( f'Falha em rejeitar a hipótese nula' )\n",
    "    \n",
    "# Se p-value for < alpha rejeita-se H0.\n",
    "#   Ou seja, a altura media das plantas eh diferente de 15 cm\n",
    "\n",
    "# Se p-value for > alpha, não existe evidencia suficiente para se rejeita H0.\n",
    "#   Ou seja, as plantas podem ter em média 15 cm"
   ]
  },
  {
   "cell_type": "markdown",
   "id": "666c80bf",
   "metadata": {},
   "source": [
    "## 4.2. Two-Sample T-test ( Condições Paramétricas são satisfeitas )"
   ]
  },
  {
   "cell_type": "code",
   "execution_count": 18,
   "id": "6708cc44",
   "metadata": {
    "ExecuteTime": {
     "end_time": "2022-07-31T12:57:50.249125Z",
     "start_time": "2022-07-31T12:57:50.246584Z"
    }
   },
   "outputs": [],
   "source": [
    "import numpy as np\n",
    "\n",
    "from scipy.stats import shapiro, ttest_ind, f_oneway\n",
    "from statsmodels.stats.multicomp import pairwise_tukeyhsd"
   ]
  },
  {
   "cell_type": "code",
   "execution_count": 19,
   "id": "f3218fff",
   "metadata": {
    "ExecuteTime": {
     "end_time": "2022-07-31T12:57:50.436711Z",
     "start_time": "2022-07-31T12:57:50.421857Z"
    }
   },
   "outputs": [
    {
     "name": "stdout",
     "output_type": "stream",
     "text": [
      "15.15\n",
      "15.8\n"
     ]
    }
   ],
   "source": [
    "df1 = np.array([14, 15, 15, 16, 13, 8, 14, 17, 16, 14, 19, 20, 21, 15, 15, 16, 16, 13, 14, 12])\n",
    "df2 = np.array([15, 17, 14, 17, 14, 8, 12, 19, 19, 14, 17, 22, 24, 16, 13, 16, 13, 18, 15, 13])\n",
    "\n",
    "# H0: u1 = u2 ( A altura média das espécies dos grupos são iguais )\n",
    "# H1: u1 <> u2 ( A altura média das espécies dos grupos são diferentes )\n",
    "\n",
    "print( np.mean( df1 ))\n",
    "print( np.mean( df2 ))"
   ]
  },
  {
   "cell_type": "code",
   "execution_count": 20,
   "id": "ed71db5a",
   "metadata": {
    "ExecuteTime": {
     "end_time": "2022-07-31T12:57:50.636310Z",
     "start_time": "2022-07-31T12:57:50.630888Z"
    }
   },
   "outputs": [
    {
     "name": "stdout",
     "output_type": "stream",
     "text": [
      "p-value: 0.2267775684595108\n",
      "p-value: 0.6782065033912659\n",
      "\n",
      "Var 1: 7.727500000000001\n",
      "Var 1: 12.260000000000002\n",
      "\n",
      "p-value: 0.5300471010405257\n",
      "Falha em rejeitar a hipótese nula\n"
     ]
    }
   ],
   "source": [
    "# Condições paramétricas\n",
    "# 1. Amostras Indepedents\n",
    "#\n",
    "#\n",
    "# 1. Normalmente distribuídos\n",
    "#\n",
    "### Teste de normalidade - Shapiro - OK\n",
    "# H0: Distribuição narmalmente distribuida\n",
    "# H1: Distribuição não normal\n",
    "#    \n",
    "# if pvalue < alpha:\n",
    "#    print( f'Rejeita a hipótese nula' )\n",
    "#    pvalue = 0.00001 - Digo que não é normal\n",
    "#    \n",
    "#else:\n",
    "#    print( f'Falha em rejeitar a hipótese nula' )\n",
    "#    pvalue = 0.89392 - Eh normal\n",
    "\n",
    "stats1, pvalue1 = shapiro( df1 )\n",
    "print( f'p-value: {pvalue1}')\n",
    "\n",
    "stats2, pvalue2 = shapiro( df2 )\n",
    "print( f'p-value: {pvalue2}')\n",
    "\n",
    "# 2. Variancias iguais\n",
    "print( f'\\nVar 1: { np.var( df1 )}')\n",
    "print( f'Var 1: { np.var( df2 )}')\n",
    "\n",
    "stats, pvalue = ttest_ind( df1, df2, equal_var=True )\n",
    "print( f'\\np-value: {pvalue}' )\n",
    "\n",
    "alpha = 0.05\n",
    "if pvalue < alpha:\n",
    "    print( f'Rejeita a hipótese nula')\n",
    "    \n",
    "else:\n",
    "    print( f'Falha em rejeitar a hipótese nula')"
   ]
  },
  {
   "cell_type": "markdown",
   "id": "0a19bd8f",
   "metadata": {},
   "source": [
    "## 4.3. Mann-Whait U-test ( Condições Paramétricas não satisfeitas )"
   ]
  },
  {
   "cell_type": "code",
   "execution_count": 21,
   "id": "20d1fec5",
   "metadata": {
    "ExecuteTime": {
     "end_time": "2022-07-31T12:57:50.988614Z",
     "start_time": "2022-07-31T12:57:50.986054Z"
    }
   },
   "outputs": [],
   "source": [
    "from scipy.stats import mannwhitneyu"
   ]
  },
  {
   "cell_type": "code",
   "execution_count": 22,
   "id": "0362e664",
   "metadata": {
    "ExecuteTime": {
     "end_time": "2022-07-31T12:57:51.182640Z",
     "start_time": "2022-07-31T12:57:51.177091Z"
    }
   },
   "outputs": [],
   "source": [
    "df1 = [20, 23, 21, 20, 18, 17, 18, 14, 20, 24, 43, 19]\n",
    "df2 = [24, 25, 21, 22, 23, 18, 17, 28, 24, 27, 21, 23]"
   ]
  },
  {
   "cell_type": "code",
   "execution_count": 23,
   "id": "0e8c1202",
   "metadata": {
    "ExecuteTime": {
     "end_time": "2022-07-31T12:57:51.344436Z",
     "start_time": "2022-07-31T12:57:51.341983Z"
    }
   },
   "outputs": [
    {
     "name": "stdout",
     "output_type": "stream",
     "text": [
      "21.416666666666668\n",
      "22.75\n"
     ]
    }
   ],
   "source": [
    "print( np.mean( df1 ))\n",
    "print( np.mean( df2 ))"
   ]
  },
  {
   "cell_type": "code",
   "execution_count": 24,
   "id": "f497406b",
   "metadata": {
    "ExecuteTime": {
     "end_time": "2022-07-31T12:57:51.543724Z",
     "start_time": "2022-07-31T12:57:51.541921Z"
    }
   },
   "outputs": [],
   "source": [
    "# H0: u1 = u2 ( A altura média das plantas dos grupos são iguais )\n",
    "# H1: u1 <> u2 ( A altura média das plantas dos grupos são diferentes )"
   ]
  },
  {
   "cell_type": "code",
   "execution_count": 25,
   "id": "79fb08ef",
   "metadata": {
    "ExecuteTime": {
     "end_time": "2022-07-31T12:57:51.766615Z",
     "start_time": "2022-07-31T12:57:51.751638Z"
    }
   },
   "outputs": [
    {
     "name": "stdout",
     "output_type": "stream",
     "text": [
      "p-value: 0.0005459139938466251\n",
      "p-value: 0.9021502137184143\n",
      "\n",
      "Var 1: 48.743055555555564\n",
      "Var 1: 9.6875\n",
      "\n",
      "p-value: 0.07217495133598324\n",
      "Falha em rejeitar a hipótese nula (Aceita a hipótese nula)\n"
     ]
    }
   ],
   "source": [
    "# Condições paramétricas\n",
    "# 1. Amostras Indepedents\n",
    "#\n",
    "#\n",
    "# 1. Normalmente distribuídos\n",
    "#\n",
    "### Teste de normalidade - Shapiro - OK\n",
    "# H0: Distribuição narmalmente distribuida\n",
    "# H1: Distribuição não normal\n",
    "#    \n",
    "# if pvalue < alpha:\n",
    "#    print( f'Rejeita a hipótese nula' )\n",
    "#    pvalue = 0.00001 - Digo que não é normal\n",
    "#    \n",
    "#else:\n",
    "#    print( f'Falha em rejeitar a hipótese nula' )\n",
    "#    pvalue = 0.89392 - Eh normal\n",
    "\n",
    "stats1, pvalue1 = shapiro( df1 )\n",
    "print( f'p-value: {pvalue1}')\n",
    "\n",
    "stats2, pvalue2 = shapiro( df2 )\n",
    "print( f'p-value: {pvalue2}')\n",
    "\n",
    "# 2. Variancias iguais\n",
    "print( f'\\nVar 1: { np.var( df1 )}')\n",
    "print( f'Var 1: { np.var( df2 )}')\n",
    "\n",
    "#stats, pvalue = ttest_ind( df1, df2, equal_var=True )\n",
    "stats, pvalue = mannwhitneyu( df1, df2 )\n",
    "print( f'\\np-value: {pvalue}' )\n",
    "\n",
    "alpha = 0.05\n",
    "if pvalue < alpha:\n",
    "    print( f'Rejeita a hipótese nula')\n",
    "    \n",
    "else:\n",
    "    print( f'Falha em rejeitar a hipótese nula (Aceita a hipótese nula)')"
   ]
  },
  {
   "cell_type": "markdown",
   "id": "d9c21e80",
   "metadata": {},
   "source": [
    "## 4.4.  One-Way ANOVA"
   ]
  },
  {
   "cell_type": "code",
   "execution_count": 26,
   "id": "5aeb0a6b",
   "metadata": {
    "ExecuteTime": {
     "end_time": "2022-07-31T12:57:52.112809Z",
     "start_time": "2022-07-31T12:57:52.109944Z"
    }
   },
   "outputs": [],
   "source": [
    "df = pd.DataFrame( { 'A': [25, 30, 28, 36, 29],\n",
    "                     'B': [45, 55, 29, 56, 40],\n",
    "                     'C': [30, 29, 33, 37, 27],\n",
    "                     'D': [54, 60, 51, 62, 73]} )"
   ]
  },
  {
   "cell_type": "code",
   "execution_count": 27,
   "id": "caf388c1",
   "metadata": {
    "ExecuteTime": {
     "end_time": "2022-07-31T12:57:52.853413Z",
     "start_time": "2022-07-31T12:57:52.844284Z"
    }
   },
   "outputs": [
    {
     "data": {
      "text/html": [
       "<div>\n",
       "<style scoped>\n",
       "    .dataframe tbody tr th:only-of-type {\n",
       "        vertical-align: middle;\n",
       "    }\n",
       "\n",
       "    .dataframe tbody tr th {\n",
       "        vertical-align: top;\n",
       "    }\n",
       "\n",
       "    .dataframe thead th {\n",
       "        text-align: right;\n",
       "    }\n",
       "</style>\n",
       "<table border=\"1\" class=\"dataframe\">\n",
       "  <thead>\n",
       "    <tr style=\"text-align: right;\">\n",
       "      <th></th>\n",
       "      <th>index</th>\n",
       "      <th>treatment</th>\n",
       "      <th>value</th>\n",
       "    </tr>\n",
       "  </thead>\n",
       "  <tbody>\n",
       "    <tr>\n",
       "      <th>0</th>\n",
       "      <td>0</td>\n",
       "      <td>A</td>\n",
       "      <td>25</td>\n",
       "    </tr>\n",
       "    <tr>\n",
       "      <th>1</th>\n",
       "      <td>1</td>\n",
       "      <td>A</td>\n",
       "      <td>30</td>\n",
       "    </tr>\n",
       "    <tr>\n",
       "      <th>2</th>\n",
       "      <td>2</td>\n",
       "      <td>A</td>\n",
       "      <td>28</td>\n",
       "    </tr>\n",
       "    <tr>\n",
       "      <th>3</th>\n",
       "      <td>3</td>\n",
       "      <td>A</td>\n",
       "      <td>36</td>\n",
       "    </tr>\n",
       "    <tr>\n",
       "      <th>4</th>\n",
       "      <td>4</td>\n",
       "      <td>A</td>\n",
       "      <td>29</td>\n",
       "    </tr>\n",
       "  </tbody>\n",
       "</table>\n",
       "</div>"
      ],
      "text/plain": [
       "   index treatment  value\n",
       "0      0         A     25\n",
       "1      1         A     30\n",
       "2      2         A     28\n",
       "3      3         A     36\n",
       "4      4         A     29"
      ]
     },
     "execution_count": 27,
     "metadata": {},
     "output_type": "execute_result"
    }
   ],
   "source": [
    "df_melt =pd.melt( df.reset_index(), id_vars=['index'], value_vars=['A', 'B', 'C', 'D'] )\n",
    "df_melt.columns = ['index', 'treatment', 'value']\n",
    "df_melt.head()"
   ]
  },
  {
   "cell_type": "code",
   "execution_count": 28,
   "id": "7ea3a266",
   "metadata": {
    "ExecuteTime": {
     "end_time": "2022-07-31T12:57:53.139707Z",
     "start_time": "2022-07-31T12:57:53.134823Z"
    }
   },
   "outputs": [
    {
     "name": "stdout",
     "output_type": "stream",
     "text": [
      "pvalue - Grupo A: ShapiroResult(statistic=0.9316344261169434, pvalue=0.6075581908226013)\n",
      "pvalue - Grupo B: ShapiroResult(statistic=0.9264494776725769, pvalue=0.5723667740821838)\n",
      "pvalue - Grupo C: ShapiroResult(statistic=0.9529604315757751, pvalue=0.7583119869232178)\n",
      "pvalue - Grupo D: ShapiroResult(statistic=0.9448273181915283, pvalue=0.7002365589141846)\n",
      "pvalue - Grupo A: 13.040000000000001\n",
      "pvalue - Grupo B: 100.4\n",
      "pvalue - Grupo C: 12.16\n",
      "pvalue - Grupo D: 58.0\n"
     ]
    }
   ],
   "source": [
    "print( f'pvalue - Grupo A: { shapiro( df[\"A\"] )}' )\n",
    "print( f'pvalue - Grupo B: { shapiro( df[\"B\"] )}' )\n",
    "print( f'pvalue - Grupo C: { shapiro( df[\"C\"] )}' )\n",
    "print( f'pvalue - Grupo D: { shapiro( df[\"D\"] )}' )\n",
    "\n",
    "print( f'pvalue - Grupo A: { np.var( df[\"A\"] )}' )\n",
    "print( f'pvalue - Grupo B: { np.var( df[\"B\"] )}' )\n",
    "print( f'pvalue - Grupo C: { np.var( df[\"C\"] )}' )\n",
    "print( f'pvalue - Grupo D: { np.var( df[\"D\"] )}' )"
   ]
  },
  {
   "cell_type": "code",
   "execution_count": 29,
   "id": "f553149f",
   "metadata": {
    "ExecuteTime": {
     "end_time": "2022-07-31T12:57:53.586544Z",
     "start_time": "2022-07-31T12:57:53.582152Z"
    }
   },
   "outputs": [
    {
     "name": "stdout",
     "output_type": "stream",
     "text": [
      "pvalue: 2.639241146210922e-05\n",
      "Rejeita a hipótese nula\n"
     ]
    }
   ],
   "source": [
    "stats, pvalue = f_oneway( df[\"A\"], df[\"B\"], df[\"C\"], df[\"D\"] )\n",
    "print( f'pvalue: {pvalue}')\n",
    "\n",
    "# H0: Não há diferença ma altura média\n",
    "# H1: Há diferença na altuara média\n",
    "\n",
    "alpha = 0.05\n",
    "\n",
    "if pvalue < alpha:\n",
    "    print( 'Rejeita a hipótese nula' )\n",
    "else:\n",
    "    print( 'Falha em rejeitar a hipótese nula - Aceita a H0')"
   ]
  },
  {
   "cell_type": "code",
   "execution_count": 30,
   "id": "a751ae87",
   "metadata": {
    "ExecuteTime": {
     "end_time": "2022-07-31T12:57:54.017363Z",
     "start_time": "2022-07-31T12:57:53.877912Z"
    }
   },
   "outputs": [
    {
     "name": "stdout",
     "output_type": "stream",
     "text": [
      " Multiple Comparison of Means - Tukey HSD, FWER=0.50 \n",
      "=====================================================\n",
      "group1 group2 meandiff p-adj   lower    upper  reject\n",
      "-----------------------------------------------------\n",
      "     A      B     15.4 0.0251   8.5506 22.2494   True\n",
      "     A      C      1.6 0.9867  -5.2494  8.4494  False\n",
      "     A      D     30.4 0.0001  23.5506 37.2494   True\n",
      "     B      C    -13.8 0.0482 -20.6494 -6.9506   True\n",
      "     B      D     15.0 0.0296   8.1506 21.8494   True\n",
      "     C      D     28.8 0.0001  21.9506 35.6494   True\n",
      "-----------------------------------------------------\n"
     ]
    }
   ],
   "source": [
    "tukey = pairwise_tukeyhsd( endog=df_melt['value'],\n",
    "                           groups=df_melt['treatment'],\n",
    "                           alpha=0.5 )\n",
    "print( tukey )"
   ]
  },
  {
   "cell_type": "code",
   "execution_count": 31,
   "id": "51887e2f",
   "metadata": {
    "ExecuteTime": {
     "end_time": "2022-07-31T12:57:54.247469Z",
     "start_time": "2022-07-31T12:57:54.126289Z"
    }
   },
   "outputs": [
    {
     "data": {
      "text/plain": [
       "<AxesSubplot:xlabel='treatment', ylabel='value'>"
      ]
     },
     "execution_count": 31,
     "metadata": {},
     "output_type": "execute_result"
    },
    {
     "data": {
      "image/png": "[encoded data removed]",
      "text/plain": [
       "<Figure size 432x288 with 1 Axes>"
      ]
     },
     "metadata": {
      "needs_background": "light"
     },
     "output_type": "display_data"
    }
   ],
   "source": [
    "sns.boxplot( x='treatment', y='value', data=df_melt )\n",
    "sns.swarmplot( x='treatment', y='value', data=df_melt, color='b' )"
   ]
  }
 ],
 "metadata": {
  "kernelspec": {
   "display_name": "Python 3 (ipykernel)",
   "language": "python",
   "name": "python3"
  },
  "language_info": {
   "codemirror_mode": {
    "name": "ipython",
    "version": 3
   },
   "file_extension": ".py",
   "mimetype": "text/x-python",
   "name": "python",
   "nbconvert_exporter": "python",
   "pygments_lexer": "ipython3",
   "version": "3.9.12"
  }
 },
 "nbformat": 4,
 "nbformat_minor": 5
}
