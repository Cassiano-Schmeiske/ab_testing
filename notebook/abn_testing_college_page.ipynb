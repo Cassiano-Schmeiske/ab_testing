{
 "cells": [
  {
   "cell_type": "markdown",
   "id": "68ed2b9d",
   "metadata": {},
   "source": [
    "# A/B/n Testing Course - PA James"
   ]
  },
  {
   "cell_type": "markdown",
   "id": "6f20ee32",
   "metadata": {},
   "source": [
    "## 0.1. Imports"
   ]
  },
  {
   "cell_type": "code",
   "execution_count": 18,
   "id": "552074cd",
   "metadata": {
    "ExecuteTime": {
     "end_time": "2022-08-18T12:22:23.374707Z",
     "start_time": "2022-08-18T12:22:23.372198Z"
    }
   },
   "outputs": [],
   "source": [
    "import pandas as pd\n",
    "import numpy as np\n",
    "import scipy.stats as stats\n",
    "\n",
    "from itertools import combinations\n",
    "\n",
    "from statsmodels.stats.gof import chisquare_effectsize\n",
    "from statsmodels.stats.power import GofChisquarePower, TTestIndPower\n",
    "from statsmodels.sandbox.stats.multicomp import multipletests"
   ]
  },
  {
   "cell_type": "markdown",
   "id": "0c7a28f1",
   "metadata": {},
   "source": [
    "# 1.0. Load Data"
   ]
  },
  {
   "cell_type": "code",
   "execution_count": 19,
   "id": "1ef1dbcf",
   "metadata": {
    "ExecuteTime": {
     "end_time": "2022-08-18T12:22:24.058936Z",
     "start_time": "2022-08-18T12:22:24.032942Z"
    }
   },
   "outputs": [
    {
     "data": {
      "text/html": [
       "<div>\n",
       "<style scoped>\n",
       "    .dataframe tbody tr th:only-of-type {\n",
       "        vertical-align: middle;\n",
       "    }\n",
       "\n",
       "    .dataframe tbody tr th {\n",
       "        vertical-align: top;\n",
       "    }\n",
       "\n",
       "    .dataframe thead th {\n",
       "        text-align: right;\n",
       "    }\n",
       "</style>\n",
       "<table border=\"1\" class=\"dataframe\">\n",
       "  <thead>\n",
       "    <tr style=\"text-align: right;\">\n",
       "      <th></th>\n",
       "      <th>variant</th>\n",
       "      <th>visit</th>\n",
       "      <th>clicks_all</th>\n",
       "      <th>clicks_link</th>\n",
       "      <th>conversion</th>\n",
       "    </tr>\n",
       "  </thead>\n",
       "  <tbody>\n",
       "    <tr>\n",
       "      <th>0</th>\n",
       "      <td>interact</td>\n",
       "      <td>10283</td>\n",
       "      <td>3714</td>\n",
       "      <td>42</td>\n",
       "      <td>0.011309</td>\n",
       "    </tr>\n",
       "    <tr>\n",
       "      <th>1</th>\n",
       "      <td>connect</td>\n",
       "      <td>2742</td>\n",
       "      <td>1587</td>\n",
       "      <td>53</td>\n",
       "      <td>0.033396</td>\n",
       "    </tr>\n",
       "    <tr>\n",
       "      <th>2</th>\n",
       "      <td>learn</td>\n",
       "      <td>2747</td>\n",
       "      <td>1652</td>\n",
       "      <td>21</td>\n",
       "      <td>0.012712</td>\n",
       "    </tr>\n",
       "    <tr>\n",
       "      <th>3</th>\n",
       "      <td>help</td>\n",
       "      <td>3180</td>\n",
       "      <td>1717</td>\n",
       "      <td>38</td>\n",
       "      <td>0.022132</td>\n",
       "    </tr>\n",
       "    <tr>\n",
       "      <th>4</th>\n",
       "      <td>services</td>\n",
       "      <td>2064</td>\n",
       "      <td>1348</td>\n",
       "      <td>45</td>\n",
       "      <td>0.033383</td>\n",
       "    </tr>\n",
       "  </tbody>\n",
       "</table>\n",
       "</div>"
      ],
      "text/plain": [
       "    variant  visit  clicks_all  clicks_link  conversion\n",
       "0  interact  10283        3714           42    0.011309\n",
       "1   connect   2742        1587           53    0.033396\n",
       "2     learn   2747        1652           21    0.012712\n",
       "3      help   3180        1717           38    0.022132\n",
       "4  services   2064        1348           45    0.033383"
      ]
     },
     "execution_count": 19,
     "metadata": {},
     "output_type": "execute_result"
    }
   ],
   "source": [
    "d = { 'variant': [ 'interact', 'connect', 'learn', 'help', 'services' ],\n",
    "      'visit': [10283, 2742, 2747, 3180, 2064],\n",
    "      'clicks_all': [3714, 1587, 1652, 1717, 1348],\n",
    "      'clicks_link': [42, 53, 21, 38, 45] }\n",
    "\n",
    "data = pd.DataFrame( d )\n",
    "data['conversion'] = data['clicks_link'] / data['clicks_all']\n",
    "data"
   ]
  },
  {
   "cell_type": "markdown",
   "id": "60891ab9",
   "metadata": {},
   "source": [
    "# 2.0. Design de Experimentos"
   ]
  },
  {
   "cell_type": "markdown",
   "id": "b7145dfd",
   "metadata": {},
   "source": [
    "## 2.1. Formulação das Hipóteses"
   ]
  },
  {
   "cell_type": "code",
   "execution_count": 20,
   "id": "da7f16c7",
   "metadata": {
    "ExecuteTime": {
     "end_time": "2022-08-18T12:22:26.693765Z",
     "start_time": "2022-08-18T12:22:26.688901Z"
    }
   },
   "outputs": [],
   "source": [
    "# H0: Não há nenhuma diferença entre o CTR das variantes da página\n",
    "# H1: Há uma diferença entre os CTR das variantes da página\n",
    "#\n",
    "# Teste Bi-Caudal"
   ]
  },
  {
   "cell_type": "markdown",
   "id": "e4a136dc",
   "metadata": {},
   "source": [
    "## 2.2. Parâmetros do Experimentos"
   ]
  },
  {
   "cell_type": "code",
   "execution_count": 21,
   "id": "e65d8090",
   "metadata": {
    "ExecuteTime": {
     "end_time": "2022-08-18T12:22:27.549722Z",
     "start_time": "2022-08-18T12:22:27.541196Z"
    }
   },
   "outputs": [],
   "source": [
    "k = len( data['clicks_all'] )\n",
    "actual_dist = data['clicks_link'] / data['clicks_link'].sum()\n",
    "expected_dist = [ 1 / k ] * k"
   ]
  },
  {
   "cell_type": "code",
   "execution_count": 22,
   "id": "723a26ca",
   "metadata": {
    "ExecuteTime": {
     "end_time": "2022-08-18T12:22:28.115000Z",
     "start_time": "2022-08-18T12:22:28.086457Z"
    }
   },
   "outputs": [
    {
     "name": "stdout",
     "output_type": "stream",
     "text": [
      "Minimum Sample Size per Variant: 222\n",
      "Total Sample Size: 1110\n"
     ]
    }
   ],
   "source": [
    "effect_size = chisquare_effectsize( expected_dist, actual_dist )\n",
    "alpha = 0.05\n",
    "power = 0.80\n",
    "\n",
    "#sample_size = GofChisquarePower().solve_power( \n",
    "#    effect_size=effect_size, \n",
    "#    alpha =alpha, \n",
    "#    power =power,\n",
    "#    n_bins = ( 2 - 1 ) * ( 5 - 1) )\n",
    "\n",
    "# T-Test\n",
    "sample_size = TTestIndPower().solve_power(\n",
    "    effect_size = effect_size,\n",
    "    alpha = alpha,\n",
    "    power = power )\n",
    "\n",
    "sample_size = np.ceil( sample_size ).astype( int )\n",
    "print( f'Minimum Sample Size per Variant: {sample_size}' )\n",
    "print( f'Total Sample Size: {k*sample_size}' )"
   ]
  },
  {
   "cell_type": "markdown",
   "id": "9394c1ba",
   "metadata": {},
   "source": [
    "# 3.0. Aplicação do Teste Chi Squared"
   ]
  },
  {
   "cell_type": "code",
   "execution_count": 23,
   "id": "e6f010a3",
   "metadata": {
    "ExecuteTime": {
     "end_time": "2022-08-18T12:22:34.700866Z",
     "start_time": "2022-08-18T12:22:34.692689Z"
    }
   },
   "outputs": [
    {
     "data": {
      "text/html": [
       "<div>\n",
       "<style scoped>\n",
       "    .dataframe tbody tr th:only-of-type {\n",
       "        vertical-align: middle;\n",
       "    }\n",
       "\n",
       "    .dataframe tbody tr th {\n",
       "        vertical-align: top;\n",
       "    }\n",
       "\n",
       "    .dataframe thead th {\n",
       "        text-align: right;\n",
       "    }\n",
       "</style>\n",
       "<table border=\"1\" class=\"dataframe\">\n",
       "  <thead>\n",
       "    <tr style=\"text-align: right;\">\n",
       "      <th></th>\n",
       "      <th>clicks_link</th>\n",
       "      <th>no_clicks_link</th>\n",
       "    </tr>\n",
       "    <tr>\n",
       "      <th>variant</th>\n",
       "      <th></th>\n",
       "      <th></th>\n",
       "    </tr>\n",
       "  </thead>\n",
       "  <tbody>\n",
       "    <tr>\n",
       "      <th>interact</th>\n",
       "      <td>42</td>\n",
       "      <td>3672</td>\n",
       "    </tr>\n",
       "    <tr>\n",
       "      <th>connect</th>\n",
       "      <td>53</td>\n",
       "      <td>1534</td>\n",
       "    </tr>\n",
       "    <tr>\n",
       "      <th>learn</th>\n",
       "      <td>21</td>\n",
       "      <td>1631</td>\n",
       "    </tr>\n",
       "    <tr>\n",
       "      <th>help</th>\n",
       "      <td>38</td>\n",
       "      <td>1679</td>\n",
       "    </tr>\n",
       "    <tr>\n",
       "      <th>services</th>\n",
       "      <td>45</td>\n",
       "      <td>1303</td>\n",
       "    </tr>\n",
       "  </tbody>\n",
       "</table>\n",
       "</div>"
      ],
      "text/plain": [
       "          clicks_link  no_clicks_link\n",
       "variant                              \n",
       "interact           42            3672\n",
       "connect            53            1534\n",
       "learn              21            1631\n",
       "help               38            1679\n",
       "services           45            1303"
      ]
     },
     "execution_count": 23,
     "metadata": {},
     "output_type": "execute_result"
    }
   ],
   "source": [
    "data['no_clicks_link'] = data['clicks_all'] - data['clicks_link']\n",
    "df = data[['variant', 'clicks_link', 'no_clicks_link']]\n",
    "df = df.set_index( 'variant' )\n",
    "df"
   ]
  },
  {
   "cell_type": "code",
   "execution_count": 24,
   "id": "59c411c9",
   "metadata": {
    "ExecuteTime": {
     "end_time": "2022-08-18T12:22:35.766721Z",
     "start_time": "2022-08-18T12:22:35.763662Z"
    }
   },
   "outputs": [
    {
     "name": "stdout",
     "output_type": "stream",
     "text": [
      "Chi Squared:46.33660181942126 - p-value: 2.0959498129984563e-09\n"
     ]
    }
   ],
   "source": [
    "chi2, p_value, dof, ex = stats.chi2_contingency( df )\n",
    "print( f'Chi Squared:{chi2} - p-value: {p_value}')"
   ]
  },
  {
   "cell_type": "markdown",
   "id": "ddfe1224",
   "metadata": {},
   "source": [
    "# 4.0. Post-hoc Testing"
   ]
  },
  {
   "cell_type": "code",
   "execution_count": 28,
   "id": "69591bae",
   "metadata": {
    "ExecuteTime": {
     "end_time": "2022-08-18T12:23:21.685874Z",
     "start_time": "2022-08-18T12:23:21.676165Z"
    }
   },
   "outputs": [],
   "source": [
    "all_combinations = list( combinations( df.index, 2 ) )\n",
    "p_values = []\n",
    "\n",
    "for comb in all_combinations:\n",
    "    new_df = df[( df.index == comb[0] ) | ( df.index == comb[1] )]\n",
    "    chi2, p_value, dof, ex = stats.chi2_contingency( new_df )\n",
    "    p_values.append( p_value )\n",
    "        \n",
    "## Correction of Benferroni\n",
    "reject_list, corrected_p_values, _, _ = multipletests( p_values, method='bonferroni' )"
   ]
  },
  {
   "cell_type": "code",
   "execution_count": 30,
   "id": "9cbddee5",
   "metadata": {
    "ExecuteTime": {
     "end_time": "2022-08-18T12:23:42.714729Z",
     "start_time": "2022-08-18T12:23:42.710009Z"
    }
   },
   "outputs": [
    {
     "name": "stdout",
     "output_type": "stream",
     "text": [
      "\n",
      "('interact', 'connect') p_value:5.3676772349808135e-08 corrected_p_values: 5.367677234980813e-07 Reject: True\n",
      "\n",
      "('interact', 'learn') p_value:0.7616980743361713 corrected_p_values: 1.0 Reject: False\n",
      "\n",
      "('interact', 'help') p_value:0.0031030587017400212 corrected_p_values: 0.03103058701740021 Reject: True\n",
      "\n",
      "('interact', 'services') p_value:1.798089447385411e-07 corrected_p_values: 1.7980894473854111e-06 Reject: True\n",
      "\n",
      "('connect', 'learn') p_value:0.00013292868361715983 corrected_p_values: 0.0013292868361715984 Reject: True\n",
      "\n",
      "('connect', 'help') p_value:0.06144184057612575 corrected_p_values: 0.6144184057612575 Reject: False\n",
      "\n",
      "('connect', 'services') p_value:1.0 corrected_p_values: 1.0 Reject: False\n",
      "\n",
      "('learn', 'help') p_value:0.0508958228881819 corrected_p_values: 0.5089582288818191 Reject: False\n",
      "\n",
      "('learn', 'services') p_value:0.00020374035733741825 corrected_p_values: 0.0020374035733741825 Reject: True\n",
      "\n",
      "('help', 'services') p_value:0.07301998638337415 corrected_p_values: 0.7301998638337415 Reject: False\n"
     ]
    }
   ],
   "source": [
    "for comb, p_val, corr_p_val, reject in zip( all_combinations, p_values, corrected_p_values, reject_list ):\n",
    "    print( '\\n{} p_value:{} corrected_p_values: {} Reject: {}'.format(comb, p_val, corr_p_val, reject))"
   ]
  },
  {
   "cell_type": "code",
   "execution_count": null,
   "id": "39a6eee9",
   "metadata": {},
   "outputs": [],
   "source": [
    "('interact', 'connect')  -> Há uma relação, diferença, dependência -> 5.367677234980813e-07\n",
    "('interact', 'services') -> Há uma relação, diferença, dependência -> 1.7980894473854111e-06\n",
    "('interact', 'help')     -> Há uma relação, diferença, dependência -> 0.03103058701740021 \n",
    "\n",
    "('connect', 'help')      -> Não há diferença\n",
    "('connect', 'services')  -> Não há diferença\n",
    "('help', 'services')     -> Não há diferença"
   ]
  }
 ],
 "metadata": {
  "kernelspec": {
   "display_name": "Python 3 (ipykernel)",
   "language": "python",
   "name": "python3"
  },
  "language_info": {
   "codemirror_mode": {
    "name": "ipython",
    "version": 3
   },
   "file_extension": ".py",
   "mimetype": "text/x-python",
   "name": "python",
   "nbconvert_exporter": "python",
   "pygments_lexer": "ipython3",
   "version": "3.9.12"
  }
 },
 "nbformat": 4,
 "nbformat_minor": 5
}
